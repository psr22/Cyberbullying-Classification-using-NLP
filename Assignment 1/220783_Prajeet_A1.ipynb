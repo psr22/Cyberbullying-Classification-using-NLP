{
  "nbformat": 4,
  "nbformat_minor": 0,
  "metadata": {
    "colab": {
      "provenance": []
    },
    "kernelspec": {
      "name": "python3",
      "display_name": "Python 3"
    },
    "language_info": {
      "name": "python"
    }
  },
  "cells": [
    {
      "cell_type": "markdown",
      "source": [
        "**NUMPY QUESTIONS (*These are ungraded*)**\n",
        "---"
      ],
      "metadata": {
        "id": "ybCHAg-VeICl"
      }
    },
    {
      "cell_type": "markdown",
      "source": [
        "**CREATE NUMPY ARRAY FROM A LIST**\n",
        "\n",
        "\n",
        "\n",
        "\n",
        "\n",
        "\n"
      ],
      "metadata": {
        "id": "TK1-4MdOetNG"
      }
    },
    {
      "cell_type": "code",
      "source": [
        "import numpy as np \n",
        "#create a numpy array of numbers {0,1,2,3,4,5,6} and print the array\n",
        "\n",
        "#YOUR CODE STARTS HERE\n",
        "arr = np.array ([0,1,2,3,4,5,6])\n",
        "print (arr)\n",
        "#YOUR CODE ENDS HERE"
      ],
      "metadata": {
        "id": "V7XjDVxTeoWy"
      },
      "execution_count": null,
      "outputs": []
    },
    {
      "cell_type": "markdown",
      "source": [
        "**PRINT ALTERNATE ELEMENTS OF NUMPY ARRAY**"
      ],
      "metadata": {
        "id": "0FRFDkgcfIC5"
      }
    },
    {
      "cell_type": "code",
      "source": [
        "import numpy as np\n",
        "#create a numpy array of number {7,8,5,10,1,2,3,4} and print alternate elements of this array using for loop.\n",
        "\n",
        "#YOUR CODE STARTS HERE\n",
        "arr = np.array ([7,8,5,10,1,2,3,4])\n",
        "for i in range (len (arr)):\n",
        "  if (i % 2 == 0):\n",
        "    print (arr[i])\n",
        "#YOUR CODE ENDS HERE"
      ],
      "metadata": {
        "id": "BDuTnzTpfX0k"
      },
      "execution_count": null,
      "outputs": []
    },
    {
      "cell_type": "markdown",
      "source": [
        "**ALTERNATE ELEMENTS USING SLICING**"
      ],
      "metadata": {
        "id": "GBjAq_4xfdtY"
      }
    },
    {
      "cell_type": "code",
      "source": [
        "import numpy as np \n",
        "#create a numpy array of number {7,8,5,10,1,2,3,4} and print alternate elements of this array using slicing.Google for more information.\n",
        "\n",
        "#YOUR CODE STARTS HERE\n",
        "arr = np.array ([7,8,5,10,1,2,3,4])\n",
        "print (arr[::2])\n",
        "#YOUR CODE ENDS HERE"
      ],
      "metadata": {
        "id": "rKDNticlflbd"
      },
      "execution_count": null,
      "outputs": []
    },
    {
      "cell_type": "markdown",
      "source": [
        "**NUMPY COPY VS NUMPY VIEW**"
      ],
      "metadata": {
        "id": "mHzrwjKyf8iM"
      }
    },
    {
      "cell_type": "code",
      "source": [
        "import numpy as np \n",
        "# create a numpy array of numbers {10,9,11,2,3,4,5} . Create a copy of this array using numpy copy. Then multiply the copy array by 2 . print both the arrays\n",
        "\n",
        "#YOUR CODE STARTS HERE\n",
        "arr = np.array ([10,9,11,2,3,4,5])\n",
        "arr1 = arr.copy()\n",
        "\n",
        "arr1 *= 2\n",
        "print (arr)\n",
        "print (arr1)\n",
        "#YOUR CODE ENDS HERE\n",
        "\n",
        "# create a numpy array of numbers {10,9,11,2,3,4,5} . Create a view of this array using numpy view. Then multiply the view array by 2 . print both the arrays\n",
        "\n",
        "#YOUR CODE STARTS HERE\n",
        "arr2 = arr.view()\n",
        "arr2 *= 2\n",
        "print (arr2)\n",
        "#YOUR CODE ENDS HERE"
      ],
      "metadata": {
        "id": "qhMnanaggAD1"
      },
      "execution_count": null,
      "outputs": []
    },
    {
      "cell_type": "markdown",
      "source": [
        "**SHAPE VS RESHAPE**"
      ],
      "metadata": {
        "id": "UoCzPBr1gQqt"
      }
    },
    {
      "cell_type": "code",
      "source": [
        "import numpy as np \n",
        "#create a numpy array of numbers {1,2,3,4,5,6,7,8}. Print the shape of this array.Convert this array to a new array of size 4*2 . Print the shape of new array\n",
        "\n",
        "#YOUR CODE STARTS HERE\n",
        "arr = np.array ([1,2,3,4,5,6,7,8])\n",
        "arr.reshape (4,2)\n",
        "#YOUR CODE ENDS HERE"
      ],
      "metadata": {
        "id": "Df7DL8vIgVP0"
      },
      "execution_count": null,
      "outputs": []
    },
    {
      "cell_type": "markdown",
      "source": [
        "**NUMPY QUESTIONS (*graded*)**\n",
        "---"
      ],
      "metadata": {
        "id": "8Y9jUT27gkUU"
      }
    },
    {
      "cell_type": "markdown",
      "source": [
        "**SIGMOID USING NUMPY ARRAY** *(2 marks)* "
      ],
      "metadata": {
        "id": "NV6kRqMqhwkK"
      }
    },
    {
      "cell_type": "markdown",
      "source": [
        "Before using np.exp(), you will use math.exp() to implement the sigmoid \n",
        "\n",
        "function. You will then see why np.exp() is preferable to math.exp()."
      ],
      "metadata": {
        "id": "69acj6gUjL0l"
      }
    },
    {
      "cell_type": "markdown",
      "source": [
        "Build a function that returns the sigmoid of a real number x. Use math.exp(x) for the exponential function.\n",
        "Search for sigmoid function on internet"
      ],
      "metadata": {
        "id": "MA5jv8MmjM8R"
      }
    },
    {
      "cell_type": "markdown",
      "source": [
        "To refer to a function belonging to a specific package you could call it using package_name.function(). Run the code below to see an example with math.exp()."
      ],
      "metadata": {
        "id": "hVO7IGHDjR68"
      }
    },
    {
      "cell_type": "code",
      "source": [
        "import math\n",
        "\n",
        "# GRADED FUNCTION: basic_sigmoid\n",
        "\n",
        "def basic_sigmoid(x):\n",
        "    \"\"\"\n",
        "    Compute sigmoid of x.\n",
        "\n",
        "    Arguments:\n",
        "    x -- A scalar\n",
        "\n",
        "    Return:\n",
        "    s -- sigmoid(x)\n",
        "    \"\"\"\n",
        "    # (≈ 1 line of code)\n",
        "    # s = \n",
        "\n",
        "#YOUR CODE STARTS HERE\n",
        "    s = 1 / (1 + math.exp (-x))  \n",
        "    return s\n",
        "#YOUR CODE ENDS HERE"
      ],
      "metadata": {
        "id": "jW6e8GdkjWHv"
      },
      "execution_count": 41,
      "outputs": []
    },
    {
      "cell_type": "markdown",
      "source": [
        "Actually, we rarely use the \"math\" library in deep learning because the inputs of the functions are real numbers. In deep learning we mostly use matrices and vectors. This is why numpy is more useful."
      ],
      "metadata": {
        "id": "uQUKTg9_keIp"
      }
    },
    {
      "cell_type": "code",
      "source": [
        "### One reason why we use \"numpy\" instead of \"math\" in Deep Learning ###\n",
        "\n",
        "x = [1, 2, 3] # x becomes a python list object\n",
        "basic_sigmoid(x) # you will see this give an error when you run it, because x is a vector."
      ],
      "metadata": {
        "id": "oZ7vYUWCkhgN"
      },
      "execution_count": null,
      "outputs": []
    },
    {
      "cell_type": "markdown",
      "source": [
        "In fact, if  𝑥=(𝑥1,𝑥2,...,𝑥𝑛)  is a row vector then np.exp(x) will apply the exponential function to every element of x. The output will thus be: np.exp(x) = (e^{x_1}, e^{x_2}, ..., e^{x_n})"
      ],
      "metadata": {
        "id": "NrB8S4-ckkil"
      }
    },
    {
      "cell_type": "code",
      "source": [
        "import numpy as np\n",
        "\n",
        "# example of np.exp\n",
        "t_x = np.array([1, 2, 3])\n",
        "print(np.exp(t_x)) # result is (exp(1), exp(2), exp(3))"
      ],
      "metadata": {
        "id": "j8jQbxJRkn2h"
      },
      "execution_count": null,
      "outputs": []
    },
    {
      "cell_type": "markdown",
      "source": [
        "**SIGMOID FUNCTION** *(2 marks)*\n"
      ],
      "metadata": {
        "id": "bJwnfYHlkqwH"
      }
    },
    {
      "cell_type": "markdown",
      "source": [
        "Implement the sigmoid function using numpy.\n",
        "\n",
        "Instructions: x could now be either a real number, a vector, or a matrix. The data structures we use in numpy to represent these shapes (vectors, matrices...) are called numpy arrays. You don't need to know more for now"
      ],
      "metadata": {
        "id": "MWi1QlFKllfO"
      }
    },
    {
      "cell_type": "code",
      "source": [
        "import numpy as np\n",
        "# GRADED FUNCTION: sigmoid\n",
        "\n",
        "def sigmoid(x):\n",
        "    \"\"\"\n",
        "    Compute the sigmoid of x\n",
        "\n",
        "    Arguments:\n",
        "    x -- A scalar or numpy array of any size\n",
        "\n",
        "    Return:\n",
        "    s -- sigmoid(x)\n",
        "    \"\"\"\n",
        "    \n",
        "    # (≈ 1 line of code)\n",
        "    # s = \n",
        "\n",
        "#YOUR CODE STARTS HERE\n",
        "    s = 1 / (1 + np.exp (-x))\n",
        "    return s\n",
        "#YOUR CODE ENDS HERE"
      ],
      "metadata": {
        "id": "NTC3d925lo4D"
      },
      "execution_count": 43,
      "outputs": []
    },
    {
      "cell_type": "markdown",
      "source": [
        "**TRANSPOSE OF A MATRIX USING FOR LOOP** *(1 mark)*\n",
        "\n",
        "Input : A 3 X 3 sample matrix of your choice\n",
        "\n",
        "Output : Transpose of that matrix\n",
        "\n",
        "Note : Use For loop and numpy library"
      ],
      "metadata": {
        "id": "Ld05ck_alsmd"
      }
    },
    {
      "cell_type": "code",
      "source": [
        "import numpy as np\n",
        "#specify sample input here using numpy library\n",
        "arr=np.array([[1,2,3],[4,5,6],[7,8,9]])\n",
        "#Declare transpose of arr as arr_tr\n",
        "\n",
        "#YOUR CODE STARTS HERE\n",
        "arr_tr = 0\n",
        "for i in range (3):\n",
        "  for j in range (3):\n",
        "    if (i == j):\n",
        "      arr_tr += arr[i][j] \n",
        "print(arr_tr)\n",
        "#YOUR CODE ENDS HERE"
      ],
      "metadata": {
        "id": "fKpdoPWEmc6J"
      },
      "execution_count": null,
      "outputs": []
    },
    {
      "cell_type": "markdown",
      "source": [
        "**PANDAS**\n",
        "\n"
      ],
      "metadata": {
        "id": "6Oac2skosYPN"
      }
    },
    {
      "cell_type": "markdown",
      "source": [
        "#Convert the series ser into a dataframe with its index as another column on the dataframe. (2 marks)"
      ],
      "metadata": {
        "id": "tmmNpAyWxU1K"
      }
    },
    {
      "cell_type": "code",
      "source": [
        "import numpy as np\n",
        "import pandas as pd\n",
        "\n",
        "mylist = list('abcedfghijklmnopqrstuvwxyz')\n",
        "myarr = np.arange(26)\n",
        "mydict = dict(zip(mylist, myarr))\n",
        "ser = pd.Series(mydict)\n",
        "\n",
        "#YOUR CODE STARTS HERE\n",
        "df = ser.to_frame().reset_index\n",
        "#YOUR CODE ENDS HERE"
      ],
      "metadata": {
        "id": "P09BvEMzsXKO"
      },
      "execution_count": 45,
      "outputs": []
    },
    {
      "cell_type": "markdown",
      "source": [
        "#From ser1 remove items present in ser2.(2marks)"
      ],
      "metadata": {
        "id": "CJ13ZUEBxYsA"
      }
    },
    {
      "cell_type": "code",
      "source": [
        "\n",
        "ser1 = pd.Series([1, 2, 3, 4, 5])\n",
        "ser2 = pd.Series([4, 5, 6, 7, 8])\n",
        "\n",
        "#YOUR CODE STARTS HERE\n",
        "np.setdiff1d (ser1, ser2)\n",
        "#YOUR CODE ENDS HERE"
      ],
      "metadata": {
        "id": "vixe0J-ftK3z"
      },
      "execution_count": null,
      "outputs": []
    },
    {
      "cell_type": "markdown",
      "source": [
        "\n",
        "#From ser, keep the top 2 most frequent items as it is and replace everything else as ‘Other’. 3marks\n",
        "\n",
        "\n"
      ],
      "metadata": {
        "id": "CKe9kbjexdKW"
      }
    },
    {
      "cell_type": "code",
      "source": [
        "\n",
        "\n",
        "np.random.RandomState(100)\n",
        "ser = pd.Series(np.random.randint(1, 5, [12]))\n",
        "\n",
        "#YOUR CODE STARTS HERE\n",
        "freq2 = ser.value_counts().index[:-2]\n",
        "# stores the top 2 most frequent elements\n",
        "ser [~ser.isin (freq2)] = 'Other'\n",
        "#YOUR CODE NEDS HERE\n"
      ],
      "metadata": {
        "id": "-EVyZhaNtaVV"
      },
      "execution_count": 47,
      "outputs": []
    },
    {
      "cell_type": "markdown",
      "source": [
        "#Find the positions of numbers that are multiples of 3 from ser. 3marks"
      ],
      "metadata": {
        "id": "Le_LuwW2xs1f"
      }
    },
    {
      "cell_type": "code",
      "source": [
        "\n",
        "ser = pd.Series(np.random.randint(1, 10, 7))\n",
        "#YOUR CODE STARTS HERE\n",
        "\n",
        "s = np.array (ser)\n",
        "for i in (np.argwhere (s % 3 == 0)):\n",
        "  print (i[0])\n",
        "#YOUR CODE ENDS HERE"
      ],
      "metadata": {
        "id": "3wEc9UFQtme5"
      },
      "execution_count": null,
      "outputs": []
    },
    {
      "cell_type": "markdown",
      "source": [
        "#Get the positions of items of ser2 in ser1 as a list. 3marks"
      ],
      "metadata": {
        "id": "UtYceKSzxvbz"
      }
    },
    {
      "cell_type": "code",
      "source": [
        "\n",
        "ser1 = pd.Series([10, 9, 6, 5, 3, 1, 12, 8, 13])\n",
        "ser2 = pd.Series([1, 3, 10, 13])\n",
        "\n",
        "#YOUR CODE STARTS HERE\n",
        "pos = [pd.Index (ser1).get_loc(i) for i in ser2]\n",
        "print (pos)\n",
        "#YOUR CODE ENDS HERE"
      ],
      "metadata": {
        "id": "HLGRkbWmtzHz"
      },
      "execution_count": null,
      "outputs": []
    },
    {
      "cell_type": "markdown",
      "source": [
        "#From ser, extract words that contain atleast 2 vowels. 4marks"
      ],
      "metadata": {
        "id": "zV8qcP6Xxz3d"
      }
    },
    {
      "cell_type": "code",
      "source": [
        "\n",
        "\n",
        "ser = pd.Series(['Apple', 'Orange', 'Plan', 'Python', 'Money'])\n",
        "\n",
        "#your code starts here\n",
        "vowels = ['a', 'e', 'i', 'o', 'u']\n",
        "for i in range (len (ser)):\n",
        "  count = 0\n",
        "  for j in ser[i]:\n",
        "    if j.lower() in vowels:\n",
        "      count += 1\n",
        "  if count >= 2:\n",
        "    print (ser[i])\n",
        "\n",
        "# alternate solution exists using mapping but here I preferred a simple solution using iteration\n",
        "#your code ends here"
      ],
      "metadata": {
        "id": "F9XhZQJ8urOI"
      },
      "execution_count": null,
      "outputs": []
    }
  ]
}